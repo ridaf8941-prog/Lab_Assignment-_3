{
  "cells": [
    {
      "cell_type": "markdown",
      "metadata": {},
      "source": [
        "# ASSIGNMENT 3\n",
        "### ROLL NO: FA25-BBD-139\n",
        "---\n",
        "## Practice Exercises (a\u2013h)"
      ]
    },
    {
      "cell_type": "code",
      "metadata": {},
      "source": [
        "# a) Create a dictionary to store information about a person (name, age, city, hobbies)\n",
        "person = {\n",
        "    'name': 'Rida Fatima',\n",
        "    'age': 20,\n",
        "    'city': 'Lahore',\n",
        "    'hobbies': ['reading', 'coding', 'traveling']\n",
        "}\n",
        "print(person)"
      ]
    },
    {
      "cell_type": "code",
      "metadata": {},
      "source": [
        "# b) Write a program to count the frequency of words in a given text\n",
        "text = 'python is fun and python is powerful'\n",
        "words = text.split()\n",
        "frequency = {}\n",
        "\n",
        "for word in words:\n",
        "    frequency[word] = frequency.get(word, 0) + 1\n",
        "\n",
        "print('Word Frequency:', frequency)"
      ]
    },
    {
      "cell_type": "code",
      "metadata": {},
      "source": [
        "# c) Implement a simple inventory system using dictionaries\n",
        "inventory = {\n",
        "    'pen': 50,\n",
        "    'notebook': 20,\n",
        "    'eraser': 30\n",
        "}\n",
        "\n",
        "# Add and update\n",
        "inventory['pencil'] = 40\n",
        "inventory['pen'] += 10\n",
        "\n",
        "print('Updated Inventory:', inventory)"
      ]
    },
    {
      "cell_type": "code",
      "metadata": {},
      "source": [
        "# d) Analyze a dataset of customer orders to find the most popular product category\n",
        "orders = [\n",
        "    {'product': 'Shampoo', 'category': 'Cosmetics'},\n",
        "    {'product': 'Soap', 'category': 'Cosmetics'},\n",
        "    {'product': 'Laptop', 'category': 'Electronics'},\n",
        "    {'product': 'Phone', 'category': 'Electronics'},\n",
        "    {'product': 'Charger', 'category': 'Electronics'}\n",
        "]\n",
        "\n",
        "category_count = {}\n",
        "for order in orders:\n",
        "    cat = order['category']\n",
        "    category_count[cat] = category_count.get(cat, 0) + 1\n",
        "\n",
        "most_popular = max(category_count, key=category_count.get)\n",
        "print('Most Popular Category:', most_popular)"
      ]
    },
    {
      "cell_type": "code",
      "metadata": {},
      "source": [
        "# e) Create a dictionary to store student grades and calculate the average grade\n",
        "grades = {\n",
        "    'Ali': [80, 90, 85],\n",
        "    'Sara': [70, 88, 92],\n",
        "    'Ahmed': [95, 85, 90]\n",
        "}\n",
        "\n",
        "for student, marks in grades.items():\n",
        "    average = sum(marks) / len(marks)\n",
        "    print(f\"{student}'s Average Grade: {average:.2f}\")"
      ]
    },
    {
      "cell_type": "code",
      "metadata": {},
      "source": [
        "# f) Inventory Management System\n",
        "inventory = {}\n",
        "\n",
        "def add_product(name, quantity, price):\n",
        "    inventory[name] = {'quantity': quantity, 'price': price}\n",
        "\n",
        "def update_quantity(name, quantity):\n",
        "    if name in inventory:\n",
        "        inventory[name]['quantity'] += quantity\n",
        "\n",
        "def total_value():\n",
        "    return sum(item['quantity'] * item['price'] for item in inventory.values())\n",
        "\n",
        "def low_stock(threshold):\n",
        "    return {name: info for name, info in inventory.items() if info['quantity'] < threshold}\n",
        "\n",
        "# Example\n",
        "add_product('Laptop', 5, 70000)\n",
        "add_product('Mouse', 20, 1500)\n",
        "update_quantity('Laptop', -2)\n",
        "\n",
        "print('Inventory:', inventory)\n",
        "print('Total Value:', total_value())\n",
        "print('Low Stock:', low_stock(5))"
      ]
    },
    {
      "cell_type": "code",
      "metadata": {},
      "source": [
        "# g) Student Gradebook\n",
        "gradebook = {\n",
        "    'Ali': {'Math': 85, 'English': 90, 'Science': 80},\n",
        "    'Sara': {'Math': 95, 'English': 88, 'Science': 92},\n",
        "    'Ahmed': {'Math': 70, 'English': 75, 'Science': 65}\n",
        "}\n",
        "\n",
        "for student, subjects in gradebook.items():\n",
        "    avg = sum(subjects.values()) / len(subjects)\n",
        "    print(f\"{student}'s Average: {avg:.2f}\")\n",
        "\n",
        "subject = 'Math'\n",
        "grades = {s: g[subject] for s, g in gradebook.items()}\n",
        "print(f'Highest in {subject}:', max(grades, key=grades.get))\n",
        "print(f'Lowest in {subject}:', min(grades, key=grades.get))\n",
        "\n",
        "sorted_students = sorted(gradebook.items(), key=lambda x: sum(x[1].values()) / len(x[1]), reverse=True)\n",
        "print('Sorted by Average:', [s[0] for s in sorted_students])"
      ]
    },
    {
      "cell_type": "code",
      "metadata": {},
      "source": [
        "# h) Simple E-commerce Store\n",
        "store = {\n",
        "    'Laptop': {'price': 70000, 'quantity': 5},\n",
        "    'Mouse': {'price': 1500, 'quantity': 20},\n",
        "    'Keyboard': {'price': 3000, 'quantity': 10}\n",
        "}\n",
        "\n",
        "cart = {}\n",
        "\n",
        "def add_to_cart(product, qty):\n",
        "    if product in store and store[product]['quantity'] >= qty:\n",
        "        cart[product] = cart.get(product, 0) + qty\n",
        "        store[product]['quantity'] -= qty\n",
        "\n",
        "def remove_from_cart(product, qty):\n",
        "    if product in cart:\n",
        "        cart[product] -= qty\n",
        "        if cart[product] <= 0:\n",
        "            del cart[product]\n",
        "\n",
        "def calculate_total():\n",
        "    total = sum(store[p]['price'] * q for p, q in cart.items())\n",
        "    discount = 0.1 * total  # 10% discount\n",
        "    tax = 0.05 * (total - discount)\n",
        "    return total - discount + tax\n",
        "\n",
        "add_to_cart('Laptop', 1)\n",
        "add_to_cart('Mouse', 2)\n",
        "\n",
        "print('Cart:', cart)\n",
        "print('Total (after discount & tax):', calculate_total())"
      ]
    }
  ],
  "metadata": {
    "kernelspec": {
      "display_name": "Python 3",
      "language": "python",
      "name": "python3"
    },
    "language_info": {
      "name": "python",
      "version": "3.x"
    }
  },
  "nbformat": 4,
  "nbformat_minor": 5
}